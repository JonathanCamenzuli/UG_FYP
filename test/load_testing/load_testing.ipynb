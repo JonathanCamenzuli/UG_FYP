{
 "cells": [
  {
   "attachments": {},
   "cell_type": "markdown",
   "metadata": {},
   "source": [
    "# Load Testing Analysis"
   ]
  },
  {
   "attachments": {},
   "cell_type": "markdown",
   "metadata": {},
   "source": [
    "## Jonathan Camenzuli"
   ]
  },
  {
   "attachments": {},
   "cell_type": "markdown",
   "metadata": {},
   "source": [
    "Source code is part of my Final Year Project in Computer Engineering (2022/23) entitled \"Miniature implementation of an IoT-based Smart City\""
   ]
  },
  {
   "cell_type": "code",
   "execution_count": 1,
   "metadata": {},
   "outputs": [],
   "source": [
    "# Libaries\n",
    "from pub_plot import *"
   ]
  },
  {
   "cell_type": "code",
   "execution_count": 2,
   "metadata": {},
   "outputs": [],
   "source": [
    "mpl.rcParams['font.family'] = 'Lato'\n",
    "mpl.rcParams['font.sans-serif'] = 'Lato'"
   ]
  },
  {
   "cell_type": "code",
   "execution_count": 3,
   "metadata": {},
   "outputs": [],
   "source": [
    "resource_df = pd.read_csv('./resource_data.csv')\n",
    "label_df = pd.read_csv('./timestamps.csv')"
   ]
  },
  {
   "cell_type": "code",
   "execution_count": 4,
   "metadata": {},
   "outputs": [
    {
     "data": {
      "text/html": [
       "<div>\n",
       "<style scoped>\n",
       "    .dataframe tbody tr th:only-of-type {\n",
       "        vertical-align: middle;\n",
       "    }\n",
       "\n",
       "    .dataframe tbody tr th {\n",
       "        vertical-align: top;\n",
       "    }\n",
       "\n",
       "    .dataframe thead th {\n",
       "        text-align: right;\n",
       "    }\n",
       "</style>\n",
       "<table border=\"1\" class=\"dataframe\">\n",
       "  <thead>\n",
       "    <tr style=\"text-align: right;\">\n",
       "      <th></th>\n",
       "      <th>Timestamp</th>\n",
       "      <th>CPU (%)</th>\n",
       "      <th>Memory (%)</th>\n",
       "      <th>Disk (%)</th>\n",
       "      <th>Temperature (C)</th>\n",
       "      <th>Label</th>\n",
       "    </tr>\n",
       "  </thead>\n",
       "  <tbody>\n",
       "    <tr>\n",
       "      <th>0</th>\n",
       "      <td>18:10:01</td>\n",
       "      <td>25.2</td>\n",
       "      <td>6.1</td>\n",
       "      <td>24.3</td>\n",
       "      <td>55.991</td>\n",
       "      <td>NaN</td>\n",
       "    </tr>\n",
       "    <tr>\n",
       "      <th>1</th>\n",
       "      <td>18:10:03</td>\n",
       "      <td>25.2</td>\n",
       "      <td>6.1</td>\n",
       "      <td>24.3</td>\n",
       "      <td>56.478</td>\n",
       "      <td>NaN</td>\n",
       "    </tr>\n",
       "    <tr>\n",
       "      <th>2</th>\n",
       "      <td>18:10:05</td>\n",
       "      <td>25.0</td>\n",
       "      <td>6.1</td>\n",
       "      <td>24.3</td>\n",
       "      <td>56.965</td>\n",
       "      <td>NaN</td>\n",
       "    </tr>\n",
       "    <tr>\n",
       "      <th>3</th>\n",
       "      <td>18:10:07</td>\n",
       "      <td>25.1</td>\n",
       "      <td>6.1</td>\n",
       "      <td>24.3</td>\n",
       "      <td>55.991</td>\n",
       "      <td>NaN</td>\n",
       "    </tr>\n",
       "    <tr>\n",
       "      <th>4</th>\n",
       "      <td>18:10:09</td>\n",
       "      <td>25.2</td>\n",
       "      <td>6.1</td>\n",
       "      <td>24.3</td>\n",
       "      <td>55.991</td>\n",
       "      <td>NaN</td>\n",
       "    </tr>\n",
       "    <tr>\n",
       "      <th>...</th>\n",
       "      <td>...</td>\n",
       "      <td>...</td>\n",
       "      <td>...</td>\n",
       "      <td>...</td>\n",
       "      <td>...</td>\n",
       "      <td>...</td>\n",
       "    </tr>\n",
       "    <tr>\n",
       "      <th>598</th>\n",
       "      <td>18:29:51</td>\n",
       "      <td>25.0</td>\n",
       "      <td>6.3</td>\n",
       "      <td>24.3</td>\n",
       "      <td>58.426</td>\n",
       "      <td>NaN</td>\n",
       "    </tr>\n",
       "    <tr>\n",
       "      <th>599</th>\n",
       "      <td>18:29:53</td>\n",
       "      <td>25.0</td>\n",
       "      <td>6.3</td>\n",
       "      <td>24.3</td>\n",
       "      <td>58.913</td>\n",
       "      <td>NaN</td>\n",
       "    </tr>\n",
       "    <tr>\n",
       "      <th>600</th>\n",
       "      <td>18:29:55</td>\n",
       "      <td>25.2</td>\n",
       "      <td>6.3</td>\n",
       "      <td>24.3</td>\n",
       "      <td>59.400</td>\n",
       "      <td>NaN</td>\n",
       "    </tr>\n",
       "    <tr>\n",
       "      <th>601</th>\n",
       "      <td>18:29:57</td>\n",
       "      <td>25.0</td>\n",
       "      <td>6.3</td>\n",
       "      <td>24.3</td>\n",
       "      <td>57.939</td>\n",
       "      <td>NaN</td>\n",
       "    </tr>\n",
       "    <tr>\n",
       "      <th>602</th>\n",
       "      <td>18:29:59</td>\n",
       "      <td>25.1</td>\n",
       "      <td>6.3</td>\n",
       "      <td>24.3</td>\n",
       "      <td>59.400</td>\n",
       "      <td>NaN</td>\n",
       "    </tr>\n",
       "  </tbody>\n",
       "</table>\n",
       "<p>603 rows × 6 columns</p>\n",
       "</div>"
      ],
      "text/plain": [
       "    Timestamp  CPU (%)  Memory (%)  Disk (%)  Temperature (C) Label\n",
       "0    18:10:01     25.2         6.1      24.3           55.991   NaN\n",
       "1    18:10:03     25.2         6.1      24.3           56.478   NaN\n",
       "2    18:10:05     25.0         6.1      24.3           56.965   NaN\n",
       "3    18:10:07     25.1         6.1      24.3           55.991   NaN\n",
       "4    18:10:09     25.2         6.1      24.3           55.991   NaN\n",
       "..        ...      ...         ...       ...              ...   ...\n",
       "598  18:29:51     25.0         6.3      24.3           58.426   NaN\n",
       "599  18:29:53     25.0         6.3      24.3           58.913   NaN\n",
       "600  18:29:55     25.2         6.3      24.3           59.400   NaN\n",
       "601  18:29:57     25.0         6.3      24.3           57.939   NaN\n",
       "602  18:29:59     25.1         6.3      24.3           59.400   NaN\n",
       "\n",
       "[603 rows x 6 columns]"
      ]
     },
     "execution_count": 4,
     "metadata": {},
     "output_type": "execute_result"
    }
   ],
   "source": [
    "merged_data = get_merged_data(resource_df, label_df)\n",
    "merged_data"
   ]
  },
  {
   "cell_type": "code",
   "execution_count": 5,
   "metadata": {},
   "outputs": [
    {
     "data": {
      "image/png": "[encoded data removed]",
      "text/plain": [
       "<Figure size 432x288 with 1 Axes>"
      ]
     },
     "metadata": {
      "needs_background": "light"
     },
     "output_type": "display_data"
    }
   ],
   "source": [
    "plot_data(merged_data)"
   ]
  },
  {
   "cell_type": "code",
   "execution_count": 6,
   "metadata": {},
   "outputs": [
    {
     "data": {
      "image/png": "[encoded data removed]",
      "text/plain": [
       "<Figure size 432x288 with 1 Axes>"
      ]
     },
     "metadata": {
      "needs_background": "light"
     },
     "output_type": "display_data"
    }
   ],
   "source": [
    "plot_data_markers(merged_data)"
   ]
  },
  {
   "cell_type": "code",
   "execution_count": 11,
   "metadata": {},
   "outputs": [
    {
     "data": {
      "text/html": [
       "<div>\n",
       "<style scoped>\n",
       "    .dataframe tbody tr th:only-of-type {\n",
       "        vertical-align: middle;\n",
       "    }\n",
       "\n",
       "    .dataframe tbody tr th {\n",
       "        vertical-align: top;\n",
       "    }\n",
       "\n",
       "    .dataframe thead th {\n",
       "        text-align: right;\n",
       "    }\n",
       "</style>\n",
       "<table border=\"1\" class=\"dataframe\">\n",
       "  <thead>\n",
       "    <tr style=\"text-align: right;\">\n",
       "      <th></th>\n",
       "      <th>CPU (%)</th>\n",
       "      <th>Memory (%)</th>\n",
       "      <th>Disk (%)</th>\n",
       "      <th>Temperature (C)</th>\n",
       "    </tr>\n",
       "  </thead>\n",
       "  <tbody>\n",
       "    <tr>\n",
       "      <th>count</th>\n",
       "      <td>603.000000</td>\n",
       "      <td>603.000000</td>\n",
       "      <td>603.000000</td>\n",
       "      <td>603.000000</td>\n",
       "    </tr>\n",
       "    <tr>\n",
       "      <th>mean</th>\n",
       "      <td>25.359536</td>\n",
       "      <td>6.162189</td>\n",
       "      <td>24.298673</td>\n",
       "      <td>58.031070</td>\n",
       "    </tr>\n",
       "    <tr>\n",
       "      <th>std</th>\n",
       "      <td>0.814744</td>\n",
       "      <td>0.076227</td>\n",
       "      <td>0.023017</td>\n",
       "      <td>0.946605</td>\n",
       "    </tr>\n",
       "    <tr>\n",
       "      <th>min</th>\n",
       "      <td>24.900000</td>\n",
       "      <td>6.100000</td>\n",
       "      <td>23.900000</td>\n",
       "      <td>55.504000</td>\n",
       "    </tr>\n",
       "    <tr>\n",
       "      <th>25%</th>\n",
       "      <td>25.000000</td>\n",
       "      <td>6.100000</td>\n",
       "      <td>24.300000</td>\n",
       "      <td>57.452000</td>\n",
       "    </tr>\n",
       "    <tr>\n",
       "      <th>50%</th>\n",
       "      <td>25.200000</td>\n",
       "      <td>6.200000</td>\n",
       "      <td>24.300000</td>\n",
       "      <td>57.939000</td>\n",
       "    </tr>\n",
       "    <tr>\n",
       "      <th>75%</th>\n",
       "      <td>25.300000</td>\n",
       "      <td>6.200000</td>\n",
       "      <td>24.300000</td>\n",
       "      <td>58.426000</td>\n",
       "    </tr>\n",
       "    <tr>\n",
       "      <th>max</th>\n",
       "      <td>29.400000</td>\n",
       "      <td>6.800000</td>\n",
       "      <td>24.300000</td>\n",
       "      <td>60.861000</td>\n",
       "    </tr>\n",
       "  </tbody>\n",
       "</table>\n",
       "</div>"
      ],
      "text/plain": [
       "          CPU (%)  Memory (%)    Disk (%)  Temperature (C)\n",
       "count  603.000000  603.000000  603.000000       603.000000\n",
       "mean    25.359536    6.162189   24.298673        58.031070\n",
       "std      0.814744    0.076227    0.023017         0.946605\n",
       "min     24.900000    6.100000   23.900000        55.504000\n",
       "25%     25.000000    6.100000   24.300000        57.452000\n",
       "50%     25.200000    6.200000   24.300000        57.939000\n",
       "75%     25.300000    6.200000   24.300000        58.426000\n",
       "max     29.400000    6.800000   24.300000        60.861000"
      ]
     },
     "execution_count": 11,
     "metadata": {},
     "output_type": "execute_result"
    }
   ],
   "source": [
    "merged_data.describe()"
   ]
  }
 ],
 "metadata": {
  "kernelspec": {
   "display_name": "Python 3",
   "language": "python",
   "name": "python3"
  },
  "language_info": {
   "codemirror_mode": {
    "name": "ipython",
    "version": 3
   },
   "file_extension": ".py",
   "mimetype": "text/x-python",
   "name": "python",
   "nbconvert_exporter": "python",
   "pygments_lexer": "ipython3",
   "version": "3.10.4"
  },
  "orig_nbformat": 4
 },
 "nbformat": 4,
 "nbformat_minor": 2
}
