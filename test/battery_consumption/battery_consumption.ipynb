{
 "cells": [
  {
   "attachments": {},
   "cell_type": "markdown",
   "metadata": {},
   "source": [
    "# Battery Consumption Analysis"
   ]
  },
  {
   "attachments": {},
   "cell_type": "markdown",
   "metadata": {},
   "source": [
    "## Jonathan Camenzuli"
   ]
  },
  {
   "attachments": {},
   "cell_type": "markdown",
   "metadata": {},
   "source": [
    "Source code is part of my Final Year Project in Computer Engineering (2022/23) entitled \"Miniature implementation of an IoT-based Smart City\""
   ]
  },
  {
   "cell_type": "code",
   "execution_count": 128,
   "metadata": {},
   "outputs": [],
   "source": [
    "# Libaries\n",
    "import numpy as np\n",
    "import pandas as pd\n",
    "import matplotlib as mpl\n",
    "import matplotlib.pyplot as plt\n",
    "from scipy.signal import savgol_filter"
   ]
  },
  {
   "cell_type": "code",
   "execution_count": 129,
   "metadata": {},
   "outputs": [],
   "source": [
    "mpl.rcParams['font.family'] = 'Lato'\n",
    "mpl.rcParams['font.sans-serif'] = 'Lato'\n",
    "mpl.rcParams['figure.figsize'] = (7,5)"
   ]
  },
  {
   "attachments": {},
   "cell_type": "markdown",
   "metadata": {},
   "source": [
    "## Helper Functions"
   ]
  },
  {
   "cell_type": "code",
   "execution_count": 130,
   "metadata": {},
   "outputs": [],
   "source": [
    "def get_merged_data(current_df, label_df):\n",
    "    \n",
    "    # Convert the timestamps to datetime objects\n",
    "    current_df_copy = current_df.copy()\n",
    "    label_df_copy = label_df.copy()\n",
    "\n",
    "    current_df_copy['Time'] = pd.to_datetime(current_df_copy['Time'], format='%H:%M:%S.%f').dt.time\n",
    "    label_df_copy['Timestamps'] = pd.to_datetime(label_df_copy['Timestamps'], format='%H:%M:%S.%f').dt.time\n",
    "\n",
    "    # Remove the decimal point from timestamps\n",
    "    current_df_copy['Time'] = current_df_copy['Time'].apply(lambda x: x.strftime('%H:%M:%S'))\n",
    "    label_df_copy['Timestamps'] = label_df_copy['Timestamps'].apply(lambda x: x.strftime('%H:%M:%S'))\n",
    "\n",
    "    # Merge the dataframes based on the timestamp column\n",
    "    merged_data = pd.merge(current_df_copy, label_df_copy, left_on='Time', right_on='Timestamps', how='left')\n",
    "    merged_data.drop(['Timestamps'], axis=1, inplace=True)\n",
    "    return merged_data"
   ]
  },
  {
   "cell_type": "code",
   "execution_count": 131,
   "metadata": {},
   "outputs": [],
   "source": [
    "def plot_data(data):\n",
    "    t = np.arange(len(data['Current (mA)']))\n",
    "\n",
    "    # Plot the data\n",
    "    plt.figure()\n",
    "    plt.plot(t, data['Current (mA)'])\n",
    "    plt.xlabel('Index')\n",
    "    plt.ylabel('Current (mA)')\n",
    "    plt.title('Current Measurement')\n",
    "    plt.grid(True)\n",
    "    plt.show()"
   ]
  },
  {
   "cell_type": "code",
   "execution_count": 132,
   "metadata": {},
   "outputs": [],
   "source": [
    "def plot_data_markers(data):\n",
    "    t = np.arange(len(data['Current (mA)']))\n",
    "\n",
    "    # Plot the data\n",
    "    plt.figure()\n",
    "    plt.plot(t, data['Current (mA)'])\n",
    "    plt.xlabel('Index')\n",
    "    plt.ylabel('Current (mA)')\n",
    "    plt.title('Current Measurement')\n",
    "    plt.grid(True)\n",
    "\n",
    "    for index, row in data.iterrows():\n",
    "        if not pd.isna(row['Labels']):\n",
    "            print(index)\n",
    "            plt.axvline(x=index, color='r', linestyle='--')\n",
    "\n",
    "    plt.show()"
   ]
  },
  {
   "attachments": {},
   "cell_type": "markdown",
   "metadata": {},
   "source": [
    "## Car Park Sensor"
   ]
  },
  {
   "cell_type": "code",
   "execution_count": 133,
   "metadata": {},
   "outputs": [],
   "source": [
    "# current_cps_df = pd.read_csv('./cps/cps_data.csv')\n",
    "# label_cps_df = pd.read_csv('./cps/timestamps.csv')"
   ]
  },
  {
   "attachments": {},
   "cell_type": "markdown",
   "metadata": {},
   "source": [
    "## Air Quality Monitoring System"
   ]
  },
  {
   "cell_type": "code",
   "execution_count": 134,
   "metadata": {},
   "outputs": [],
   "source": [
    "current_aqms_df = pd.read_csv('./aqms/aqms_data.csv')\n",
    "label_aqms_df = pd.read_csv('./aqms/timestamps.csv')"
   ]
  },
  {
   "cell_type": "code",
   "execution_count": 135,
   "metadata": {},
   "outputs": [
    {
     "data": {
      "text/html": [
       "<div>\n",
       "<style scoped>\n",
       "    .dataframe tbody tr th:only-of-type {\n",
       "        vertical-align: middle;\n",
       "    }\n",
       "\n",
       "    .dataframe tbody tr th {\n",
       "        vertical-align: top;\n",
       "    }\n",
       "\n",
       "    .dataframe thead th {\n",
       "        text-align: right;\n",
       "    }\n",
       "</style>\n",
       "<table border=\"1\" class=\"dataframe\">\n",
       "  <thead>\n",
       "    <tr style=\"text-align: right;\">\n",
       "      <th></th>\n",
       "      <th>Time</th>\n",
       "      <th>Current (mA)</th>\n",
       "      <th>Labels</th>\n",
       "    </tr>\n",
       "  </thead>\n",
       "  <tbody>\n",
       "    <tr>\n",
       "      <th>0</th>\n",
       "      <td>17:20:17</td>\n",
       "      <td>25.5</td>\n",
       "      <td>NaN</td>\n",
       "    </tr>\n",
       "    <tr>\n",
       "      <th>1</th>\n",
       "      <td>17:20:18</td>\n",
       "      <td>25.8</td>\n",
       "      <td>NaN</td>\n",
       "    </tr>\n",
       "    <tr>\n",
       "      <th>2</th>\n",
       "      <td>17:20:19</td>\n",
       "      <td>25.6</td>\n",
       "      <td>NaN</td>\n",
       "    </tr>\n",
       "    <tr>\n",
       "      <th>3</th>\n",
       "      <td>17:20:20</td>\n",
       "      <td>25.6</td>\n",
       "      <td>NaN</td>\n",
       "    </tr>\n",
       "    <tr>\n",
       "      <th>4</th>\n",
       "      <td>17:20:21</td>\n",
       "      <td>25.6</td>\n",
       "      <td>NaN</td>\n",
       "    </tr>\n",
       "    <tr>\n",
       "      <th>...</th>\n",
       "      <td>...</td>\n",
       "      <td>...</td>\n",
       "      <td>...</td>\n",
       "    </tr>\n",
       "    <tr>\n",
       "      <th>3898</th>\n",
       "      <td>18:26:56</td>\n",
       "      <td>36.1</td>\n",
       "      <td>NaN</td>\n",
       "    </tr>\n",
       "    <tr>\n",
       "      <th>3899</th>\n",
       "      <td>18:26:57</td>\n",
       "      <td>35.2</td>\n",
       "      <td>NaN</td>\n",
       "    </tr>\n",
       "    <tr>\n",
       "      <th>3900</th>\n",
       "      <td>18:26:58</td>\n",
       "      <td>46.4</td>\n",
       "      <td>NaN</td>\n",
       "    </tr>\n",
       "    <tr>\n",
       "      <th>3901</th>\n",
       "      <td>18:26:59</td>\n",
       "      <td>45.1</td>\n",
       "      <td>NaN</td>\n",
       "    </tr>\n",
       "    <tr>\n",
       "      <th>3902</th>\n",
       "      <td>18:27:00</td>\n",
       "      <td>34.2</td>\n",
       "      <td>NaN</td>\n",
       "    </tr>\n",
       "  </tbody>\n",
       "</table>\n",
       "<p>3903 rows × 3 columns</p>\n",
       "</div>"
      ],
      "text/plain": [
       "          Time  Current (mA) Labels\n",
       "0     17:20:17          25.5    NaN\n",
       "1     17:20:18          25.8    NaN\n",
       "2     17:20:19          25.6    NaN\n",
       "3     17:20:20          25.6    NaN\n",
       "4     17:20:21          25.6    NaN\n",
       "...        ...           ...    ...\n",
       "3898  18:26:56          36.1    NaN\n",
       "3899  18:26:57          35.2    NaN\n",
       "3900  18:26:58          46.4    NaN\n",
       "3901  18:26:59          45.1    NaN\n",
       "3902  18:27:00          34.2    NaN\n",
       "\n",
       "[3903 rows x 3 columns]"
      ]
     },
     "execution_count": 135,
     "metadata": {},
     "output_type": "execute_result"
    }
   ],
   "source": [
    "aqms_merged_df = get_merged_data(current_aqms_df, label_aqms_df)\n",
    "\n",
    "aqms_merged_df"
   ]
  },
  {
   "cell_type": "code",
   "execution_count": 136,
   "metadata": {},
   "outputs": [
    {
     "data": {
      "image/png": "[encoded data removed]",
      "text/plain": [
       "<Figure size 504x360 with 1 Axes>"
      ]
     },
     "metadata": {
      "needs_background": "light"
     },
     "output_type": "display_data"
    }
   ],
   "source": [
    "plot_data(aqms_merged_df)"
   ]
  },
  {
   "cell_type": "code",
   "execution_count": 137,
   "metadata": {},
   "outputs": [
    {
     "name": "stdout",
     "output_type": "stream",
     "text": [
      "11\n",
      "36\n",
      "37\n",
      "47\n",
      "83\n",
      "84\n",
      "1848\n",
      "1853\n",
      "1854\n",
      "1864\n",
      "1885\n",
      "1887\n",
      "3649\n",
      "3655\n",
      "3656\n"
     ]
    },
    {
     "data": {
      "image/png": "[encoded data removed]",
      "text/plain": [
       "<Figure size 504x360 with 1 Axes>"
      ]
     },
     "metadata": {
      "needs_background": "light"
     },
     "output_type": "display_data"
    }
   ],
   "source": [
    "plot_data_markers(aqms_merged_df)"
   ]
  },
  {
   "cell_type": "code",
   "execution_count": 138,
   "metadata": {},
   "outputs": [
    {
     "data": {
      "image/png": "[encoded data removed]",
      "text/plain": [
       "<Figure size 504x360 with 1 Axes>"
      ]
     },
     "metadata": {
      "needs_background": "light"
     },
     "output_type": "display_data"
    }
   ],
   "source": [
    "aqms_cycle_df = aqms_merged_df.drop(aqms_merged_df.index[1843:], axis=0)\n",
    "aqms_cycle_df = aqms_cycle_df.drop(aqms_cycle_df.index[0:10], axis=0)\n",
    "plot_data(aqms_cycle_df)"
   ]
  },
  {
   "cell_type": "code",
   "execution_count": 139,
   "metadata": {},
   "outputs": [
    {
     "name": "stdout",
     "output_type": "stream",
     "text": [
      "11\n",
      "36\n",
      "37\n",
      "47\n",
      "83\n",
      "84\n"
     ]
    },
    {
     "data": {
      "image/png": "[encoded data removed]",
      "text/plain": [
       "<Figure size 504x360 with 1 Axes>"
      ]
     },
     "metadata": {
      "needs_background": "light"
     },
     "output_type": "display_data"
    }
   ],
   "source": [
    "plot_data_markers(aqms_cycle_df)"
   ]
  },
  {
   "attachments": {},
   "cell_type": "markdown",
   "metadata": {},
   "source": [
    "## Fire Detection System"
   ]
  },
  {
   "cell_type": "code",
   "execution_count": 140,
   "metadata": {},
   "outputs": [],
   "source": [
    "current_fds_df = pd.read_csv('./fds/fds_data.csv')\n",
    "label_fds_df = pd.read_csv('./fds/timestamps.csv')"
   ]
  }
 ],
 "metadata": {
  "kernelspec": {
   "display_name": "Python 3",
   "language": "python",
   "name": "python3"
  },
  "language_info": {
   "codemirror_mode": {
    "name": "ipython",
    "version": 3
   },
   "file_extension": ".py",
   "mimetype": "text/x-python",
   "name": "python",
   "nbconvert_exporter": "python",
   "pygments_lexer": "ipython3",
   "version": "3.10.4"
  },
  "orig_nbformat": 4
 },
 "nbformat": 4,
 "nbformat_minor": 2
}
